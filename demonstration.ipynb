{
 "cells": [
  {
   "cell_type": "code",
   "execution_count": 3,
   "id": "f162e759-dfa6-4ed4-8554-24fd188e2dc9",
   "metadata": {
    "tags": []
   },
   "outputs": [],
   "source": [
    "!pip install -q google-cloud-documentai"
   ]
  },
  {
   "cell_type": "code",
   "execution_count": 4,
   "id": "81e7fdf0-d1ea-456a-ae52-aab75c832665",
   "metadata": {
    "tags": []
   },
   "outputs": [],
   "source": [
    "from google.cloud import documentai_v1 as documentai\n",
    "import pandas as pd"
   ]
  },
  {
   "cell_type": "code",
   "execution_count": 5,
   "id": "744229be-06c0-478d-8022-4b1eef91e8d7",
   "metadata": {
    "tags": []
   },
   "outputs": [],
   "source": [
    "PROJECT_ID = \"YOUR_PROJECT_HERE\"\n",
    "LOCATION = \"us\"\n",
    "PROCESSOR_ID = \"YOUR_PROCESSOR_HERE\""
   ]
  },
  {
   "cell_type": "code",
   "execution_count": 6,
   "id": "691b997b-3c59-4368-89b2-b3c4f6cafc72",
   "metadata": {
    "tags": []
   },
   "outputs": [],
   "source": [
    "FILE_PATH = \"intake-form.pdf\"\n",
    "MIME_TYPE = \"application/pdf\""
   ]
  },
  {
   "cell_type": "code",
   "execution_count": 8,
   "id": "4d7241e9-55a2-42c6-bb42-7ff4bed1bcf0",
   "metadata": {
    "tags": []
   },
   "outputs": [],
   "source": [
    "opts = {\"api_endpoint\": f\"{LOCATION}-documentai.googleapis.com\"}\n",
    "\n",
    "documentai_client = documentai.DocumentProcessorServiceClient(client_options=opts)\n",
    "resource_name = documentai_client.processor_path(PROJECT_ID, LOCATION, PROCESSOR_ID)"
   ]
  },
  {
   "cell_type": "code",
   "execution_count": 9,
   "id": "9d4352ac-5a1b-4420-be29-49d468391295",
   "metadata": {
    "tags": []
   },
   "outputs": [],
   "source": [
    "with open(FILE_PATH, \"rb\") as image:\n",
    "    image_content = image.read()\n",
    "    \n",
    "    raw_document = documentai.RawDocument(\n",
    "        content=image_content,\n",
    "        mime_type=MIME_TYPE\n",
    "    )\n",
    "    \n",
    "    request = documentai.ProcessRequest(\n",
    "        name=resource_name,\n",
    "        raw_document=raw_document\n",
    "    )\n",
    "    \n",
    "    result = documentai_client.process_document(request=request)"
   ]
  },
  {
   "cell_type": "code",
   "execution_count": 11,
   "id": "cb9b0273-8834-432d-972a-fd64c06ffffb",
   "metadata": {
    "tags": []
   },
   "outputs": [],
   "source": [
    "document = result.document"
   ]
  },
  {
   "cell_type": "code",
   "execution_count": 12,
   "id": "7b30ac9e-b82c-4a63-bada-2e42cdbd43a0",
   "metadata": {
    "tags": []
   },
   "outputs": [
    {
     "name": "stdout",
     "output_type": "stream",
     "text": [
      "                                           Field Name  Field Name Confidence  \\\n",
      "0   Are you currently taking any medication? (If y...               0.943337   \n",
      "1                                          _Phone #:                0.932336   \n",
      "2                                               Zip:                0.914201   \n",
      "3                                              City:                0.900499   \n",
      "4                                             State:                0.893907   \n",
      "5                                               DOB:                0.885175   \n",
      "6                                            Gender:                0.882370   \n",
      "7                                             Name:\\n               0.872788   \n",
      "8                                   Marital Status:\\n               0.852380   \n",
      "9   Describe your medical concerns (symptoms, diag...               0.843905   \n",
      "10                                            Date:\\n               0.829963   \n",
      "11                                          Address:                0.823900   \n",
      "12                                       Occupation:                0.814969   \n",
      "13                                Emergency Contact:                0.813421   \n",
      "14                                            Email:                0.797409   \n",
      "15                                      Referred By:                0.769416   \n",
      "16                          Emergency Contact Phone:                0.761174   \n",
      "\n",
      "                                          Field Value  Field Value Confidence  \n",
      "0               Vyvanse (25mg) daily for attention.\\n                0.943337  \n",
      "1                              walker@cmail.com\\n(906                0.932336  \n",
      "2                                             07082\\n                0.914201  \n",
      "3                                            Towaco\\n                0.900499  \n",
      "4                                                 NJ                 0.893907  \n",
      "5                                        09/04/1986\\n                0.885175  \n",
      "6                                                 F\\n                0.882370  \n",
      "7                                      Sally Walker\\n                0.872788  \n",
      "8                                             Single                 0.852380  \n",
      "9   Ranny nose, mucas in thwat, weakness,\\naches, ...                0.843905  \n",
      "10                                          9/14/19\\n                0.829963  \n",
      "11                                   24 Barney Lane\\n                0.823900  \n",
      "12                                Software Engineer\\n                0.814969  \n",
      "13                                        Eva Walker                 0.813421  \n",
      "14                          Sally, walker@cmail.com\\n                0.797409  \n",
      "15                                             None\\n                0.769416  \n",
      "16                                    (906)334-8926\\n                0.761174  \n"
     ]
    }
   ],
   "source": [
    "names = []\n",
    "name_confidence = []\n",
    "values = []\n",
    "value_confidence = []\n",
    "\n",
    "for page in document.pages:\n",
    "    for field in page.form_fields:\n",
    "        # Get the extracted field names\n",
    "        names.append(field.field_name.text_anchor.content)\n",
    "        # Confidence - How \"sure\" the Model is that the text is correct\n",
    "        name_confidence.append(field.field_name.confidence)\n",
    "\n",
    "        values.append(field.field_value.text_anchor.content)\n",
    "        value_confidence.append(field.field_value.confidence)\n",
    "\n",
    "# Create a Pandas Dataframe to print the values in tabular format.\n",
    "df = pd.DataFrame(\n",
    "    {\n",
    "        \"Field Name\": names,\n",
    "        \"Field Name Confidence\": name_confidence,\n",
    "        \"Field Value\": values,\n",
    "        \"Field Value Confidence\": value_confidence,\n",
    "    }\n",
    ")\n",
    "\n",
    "print(df)"
   ]
  }
 ],
 "metadata": {
  "environment": {
   "kernel": "conda-base-py",
   "name": "workbench-notebooks.m121",
   "type": "gcloud",
   "uri": "us-docker.pkg.dev/deeplearning-platform-release/gcr.io/workbench-notebooks:m121"
  },
  "kernelspec": {
   "display_name": "Python 3 (ipykernel) (Local)",
   "language": "python",
   "name": "conda-base-py"
  },
  "language_info": {
   "codemirror_mode": {
    "name": "ipython",
    "version": 3
   },
   "file_extension": ".py",
   "mimetype": "text/x-python",
   "name": "python",
   "nbconvert_exporter": "python",
   "pygments_lexer": "ipython3",
   "version": "3.10.14"
  }
 },
 "nbformat": 4,
 "nbformat_minor": 5
}
